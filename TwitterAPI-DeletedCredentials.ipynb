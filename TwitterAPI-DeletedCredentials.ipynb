{
 "cells": [
  {
   "cell_type": "code",
   "execution_count": 39,
   "id": "1ba18f59",
   "metadata": {},
   "outputs": [],
   "source": [
    "#!pip install tweepy"
   ]
  },
  {
   "cell_type": "code",
   "execution_count": 139,
   "id": "1f621da0",
   "metadata": {},
   "outputs": [
    {
     "name": "stderr",
     "output_type": "stream",
     "text": [
      "[nltk_data] Downloading package punkt to /Users/maha/nltk_data...\n",
      "[nltk_data]   Package punkt is already up-to-date!\n"
     ]
    }
   ],
   "source": [
    "import os\n",
    "import tweepy as tw\n",
    "import pandas as pd\n",
    "import csv\n",
    "import langid\n",
    "import nltk\n",
    "nltk.download('punkt')\n",
    "import re"
   ]
  },
  {
   "cell_type": "markdown",
   "id": "9494b576",
   "metadata": {},
   "source": [
    "Helper function"
   ]
  },
  {
   "cell_type": "code",
   "execution_count": 153,
   "id": "5af667bb",
   "metadata": {},
   "outputs": [],
   "source": [
    "def remove_numbers_and_latin_chars(text): \n",
    "    \n",
    "    \"\"\"  \n",
    "    This function aims to remove any non arabic character using regex\n",
    "    \"\"\"\n",
    "    \n",
    "    pattern = r'[a-z A-Z 0-9 …: ⃣◈♕!@#\\➘✓ /$%^&*()_+;={,-/|><~\"}]'\n",
    "    new_text=re.sub(pattern, ' ',  str(text))\n",
    "    return new_text"
   ]
  },
  {
   "cell_type": "markdown",
   "id": "d117a1fc",
   "metadata": {},
   "source": [
    "Below credentials were recieved after creating a project using Twitter Developer Acoount https://developer.twitter.com/en"
   ]
  },
  {
   "cell_type": "code",
   "execution_count": 128,
   "id": "e7cfc1d8",
   "metadata": {},
   "outputs": [],
   "source": [
    "consumer_key= ''\n",
    "consumer_secret= ''"
   ]
  },
  {
   "cell_type": "code",
   "execution_count": 129,
   "id": "7b5f8b67",
   "metadata": {},
   "outputs": [],
   "source": [
    "auth = tw.OAuthHandler(consumer_key, consumer_secret)"
   ]
  },
  {
   "cell_type": "markdown",
   "id": "8024f483",
   "metadata": {},
   "source": [
    "created a query that searches for public posted tweets mentioning @Tawakkalna_Care and execute it using tweepy cursor"
   ]
  },
  {
   "cell_type": "code",
   "execution_count": 154,
   "id": "77da2b04",
   "metadata": {},
   "outputs": [],
   "source": [
    "tweets_df=[]\n",
    "\n",
    "try:\n",
    "    api = tw.API(auth)    \n",
    "except:\n",
    "    print('Authoriztion Error')\n",
    "\n",
    "try:\n",
    "    for tweet in tw.Cursor(api.search_tweets, q='@Tawakkalna_Care',count=8000,since_id=0).items():\n",
    "            tweet.text=tweet.text.replace('@Tawakkalna_care','')\n",
    "            tweets_df.append(tweet.text)\n",
    "except:\n",
    "    print('Querying Error')    "
   ]
  },
  {
   "cell_type": "markdown",
   "id": "8fa7bb48",
   "metadata": {},
   "source": [
    "How many tweets were extracted succesfully?"
   ]
  },
  {
   "cell_type": "code",
   "execution_count": 155,
   "id": "5a2255ae",
   "metadata": {},
   "outputs": [
    {
     "data": {
      "text/plain": [
       "2109"
      ]
     },
     "execution_count": 155,
     "metadata": {},
     "output_type": "execute_result"
    }
   ],
   "source": [
    "len(tweets_df) #number of exctracted tweets"
   ]
  },
  {
   "cell_type": "markdown",
   "id": "7693b437",
   "metadata": {},
   "source": [
    "Then converting to dataframe and applying helper function to remove any non arabic character in all tweets and save it in a csv file"
   ]
  },
  {
   "cell_type": "code",
   "execution_count": 156,
   "id": "de200682",
   "metadata": {},
   "outputs": [],
   "source": [
    "tweets_df=pd.DataFrame(tweets_df)"
   ]
  },
  {
   "cell_type": "code",
   "execution_count": 157,
   "id": "dbf68ce8",
   "metadata": {},
   "outputs": [
    {
     "data": {
      "text/html": [
       "<div>\n",
       "<style scoped>\n",
       "    .dataframe tbody tr th:only-of-type {\n",
       "        vertical-align: middle;\n",
       "    }\n",
       "\n",
       "    .dataframe tbody tr th {\n",
       "        vertical-align: top;\n",
       "    }\n",
       "\n",
       "    .dataframe thead th {\n",
       "        text-align: right;\n",
       "    }\n",
       "</style>\n",
       "<table border=\"1\" class=\"dataframe\">\n",
       "  <thead>\n",
       "    <tr style=\"text-align: right;\">\n",
       "      <th></th>\n",
       "      <th>Tweet</th>\n",
       "    </tr>\n",
       "  </thead>\n",
       "  <tbody>\n",
       "    <tr>\n",
       "      <th>0</th>\n",
       "      <td>السلام عليكم ، زوجتي تلقت جرعتين من لقاح كورو...</td>\n",
       "    </tr>\n",
       "    <tr>\n",
       "      <th>1</th>\n",
       "      <td>\\n\\nحجزت عمره من توكلنا وسددت تذاكر النقل مرت...</td>\n",
       "    </tr>\n",
       "    <tr>\n",
       "      <th>2</th>\n",
       "      <td>@SaudiMOH937 @FahadAlJalajel @SaudiMOH @spokes...</td>\n",
       "    </tr>\n",
       "  </tbody>\n",
       "</table>\n",
       "</div>"
      ],
      "text/plain": [
       "                                               Tweet\n",
       "0   السلام عليكم ، زوجتي تلقت جرعتين من لقاح كورو...\n",
       "1   \\n\\nحجزت عمره من توكلنا وسددت تذاكر النقل مرت...\n",
       "2  @SaudiMOH937 @FahadAlJalajel @SaudiMOH @spokes..."
      ]
     },
     "execution_count": 157,
     "metadata": {},
     "output_type": "execute_result"
    }
   ],
   "source": [
    "tweets_df.rename(columns={0:'Tweet'},inplace=True)\n",
    "tweets_df.head(3)"
   ]
  },
  {
   "cell_type": "code",
   "execution_count": 158,
   "id": "8449b04a",
   "metadata": {},
   "outputs": [],
   "source": [
    "tweets_df['Tweet']=tweets_df['Tweet'].apply(remove_numbers_and_latin_chars)"
   ]
  },
  {
   "cell_type": "code",
   "execution_count": 159,
   "id": "b4f8c065",
   "metadata": {},
   "outputs": [],
   "source": [
    "tweets_df.to_csv('tweets_cleaned_texts.csv')"
   ]
  }
 ],
 "metadata": {
  "kernelspec": {
   "display_name": "Python 3",
   "language": "python",
   "name": "python3"
  },
  "language_info": {
   "codemirror_mode": {
    "name": "ipython",
    "version": 3
   },
   "file_extension": ".py",
   "mimetype": "text/x-python",
   "name": "python",
   "nbconvert_exporter": "python",
   "pygments_lexer": "ipython3",
   "version": "3.8.8"
  }
 },
 "nbformat": 4,
 "nbformat_minor": 5
}
